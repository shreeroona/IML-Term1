{
 "cells": [
  {
   "cell_type": "markdown",
   "metadata": {},
   "source": [
    "# K Fold Cross Validation algorithm and code\n",
    "\n",
    "Though K fold cross validaiton can be easily done cross_val_score method of sklearn.model_selection library, but its always fun to write code from scratch as it will make you understand the underling alogrithm "
   ]
  },
  {
   "cell_type": "markdown",
   "metadata": {},
   "source": [
    "![photo](pics\\kfold.png)"
   ]
  },
  {
   "cell_type": "code",
   "execution_count": 2,
   "metadata": {},
   "outputs": [],
   "source": [
    "#import all the required libraries\n",
    "import numpy as np\n",
    "import pandas as pd\n",
    "import os\n",
    "\n",
    "from sklearn.model_selection import train_test_split\n",
    "\n",
    "from sklearn.neighbors import KNeighborsClassifier\n",
    "\n",
    "from sklearn.metrics import confusion_matrix\n",
    "\n",
    "knn = KNeighborsClassifier(n_neighbors = 3)"
   ]
  },
  {
   "cell_type": "code",
   "execution_count": 3,
   "metadata": {},
   "outputs": [
    {
     "data": {
      "text/html": [
       "<div>\n",
       "<style scoped>\n",
       "    .dataframe tbody tr th:only-of-type {\n",
       "        vertical-align: middle;\n",
       "    }\n",
       "\n",
       "    .dataframe tbody tr th {\n",
       "        vertical-align: top;\n",
       "    }\n",
       "\n",
       "    .dataframe thead th {\n",
       "        text-align: right;\n",
       "    }\n",
       "</style>\n",
       "<table border=\"1\" class=\"dataframe\">\n",
       "  <thead>\n",
       "    <tr style=\"text-align: right;\">\n",
       "      <th></th>\n",
       "      <th>sepal_length</th>\n",
       "      <th>sepal_width</th>\n",
       "      <th>petal_length</th>\n",
       "      <th>petal_width</th>\n",
       "      <th>species</th>\n",
       "    </tr>\n",
       "  </thead>\n",
       "  <tbody>\n",
       "    <tr>\n",
       "      <th>0</th>\n",
       "      <td>5.1</td>\n",
       "      <td>3.5</td>\n",
       "      <td>1.4</td>\n",
       "      <td>0.2</td>\n",
       "      <td>Iris-setosa</td>\n",
       "    </tr>\n",
       "    <tr>\n",
       "      <th>1</th>\n",
       "      <td>4.9</td>\n",
       "      <td>3.0</td>\n",
       "      <td>1.4</td>\n",
       "      <td>0.2</td>\n",
       "      <td>Iris-setosa</td>\n",
       "    </tr>\n",
       "    <tr>\n",
       "      <th>2</th>\n",
       "      <td>4.7</td>\n",
       "      <td>3.2</td>\n",
       "      <td>1.3</td>\n",
       "      <td>0.2</td>\n",
       "      <td>Iris-setosa</td>\n",
       "    </tr>\n",
       "    <tr>\n",
       "      <th>3</th>\n",
       "      <td>4.6</td>\n",
       "      <td>3.1</td>\n",
       "      <td>1.5</td>\n",
       "      <td>0.2</td>\n",
       "      <td>Iris-setosa</td>\n",
       "    </tr>\n",
       "    <tr>\n",
       "      <th>4</th>\n",
       "      <td>5.0</td>\n",
       "      <td>3.6</td>\n",
       "      <td>1.4</td>\n",
       "      <td>0.2</td>\n",
       "      <td>Iris-setosa</td>\n",
       "    </tr>\n",
       "  </tbody>\n",
       "</table>\n",
       "</div>"
      ],
      "text/plain": [
       "   sepal_length  sepal_width  petal_length  petal_width      species\n",
       "0           5.1          3.5           1.4          0.2  Iris-setosa\n",
       "1           4.9          3.0           1.4          0.2  Iris-setosa\n",
       "2           4.7          3.2           1.3          0.2  Iris-setosa\n",
       "3           4.6          3.1           1.5          0.2  Iris-setosa\n",
       "4           5.0          3.6           1.4          0.2  Iris-setosa"
      ]
     },
     "execution_count": 3,
     "metadata": {},
     "output_type": "execute_result"
    }
   ],
   "source": [
    "#Read the data in a dataframe\n",
    "os.chdir(r\"C:\\Users\\ROONASHREE\\Box Sync\\DataScience\\Python\")\n",
    "iris = pd.read_csv(\"IRIS.csv\")\n",
    "iris.head()"
   ]
  },
  {
   "cell_type": "code",
   "execution_count": 6,
   "metadata": {},
   "outputs": [],
   "source": [
    "# Defining a function to calculate the accuracy at each fold\n",
    "def accuracy(y_pred,y_actual):\n",
    "    ResultAcc = list(y_pred==y_actual)\n",
    "    count=0\n",
    "    for i in ResultAcc:\n",
    "        if i==True:\n",
    "            count+=1\n",
    "    return(round(count/len(ResultAcc)*100,2))"
   ]
  },
  {
   "cell_type": "code",
   "execution_count": 11,
   "metadata": {},
   "outputs": [
    {
     "name": "stdout",
     "output_type": "stream",
     "text": [
      "Cross Validation Score  94.66799999999999\n"
     ]
    }
   ],
   "source": [
    "k = 10  # Initializing the k for k fold cross validation\n",
    "l = len(iris) # Entire Lenghth of dataframe\n",
    "i_part = iris[0:0] # i part of the alogrithm\n",
    "u_part = iris.copy() # union part of the algorithm\n",
    "p = l//k  # p would be the parition size\n",
    "model_acc = [] #initialising the list to save accuracy score for each iteration\n",
    "\n",
    "\n",
    "for i in range(0,k):\n",
    "    row = iris[p*i:(p*(i+1))]\n",
    "    i_part = row   #subset the i part to test the model\n",
    "    \n",
    "    # Union of all the parts except the ith part, this part will be used to train the model\n",
    "    u_part =iris.drop(list(np.arange(p*i,p*(i+1)))) \n",
    "    \n",
    "    \n",
    "    #Spliting the Predictors and Target for Train\n",
    "    X_train = u_part[['sepal_length','sepal_width','petal_length','petal_width']]\n",
    "    y_train =  u_part.species\n",
    "    \n",
    "    #Splitting the Predictors and Traget for Test\n",
    "    x_test = i_part[['sepal_length','sepal_width','petal_length','petal_width']]\n",
    "    y_test =  i_part.species\n",
    "    \n",
    "    \n",
    "    #Fit the model, here I am using knn, any appropiate model can be used here\n",
    "    knn.fit(X_train, y_train)\n",
    "    \n",
    "    #Test the model\n",
    "    pred = knn.predict(x_test)\n",
    "    \n",
    "    y_test = list(y_test)\n",
    "    \n",
    "    #caluclate the accuracy\n",
    "    acc = accuracy(pred,y_test)\n",
    "    model_acc.append(acc)\n",
    "\n",
    "# Take the mean of accuracy from the list of all accuracy of each fold    \n",
    "model_accuracy = np.mean(model_acc)\n",
    "\n",
    "#Print the final cross validation score\n",
    "print(\"Cross Validation Score \",model_accuracy)\n",
    "    \n",
    "    \n",
    "    \n",
    "    \n",
    "    \n",
    "    \n",
    "\n"
   ]
  }
 ],
 "metadata": {
  "kernelspec": {
   "display_name": "Python 3",
   "language": "python",
   "name": "python3"
  },
  "language_info": {
   "codemirror_mode": {
    "name": "ipython",
    "version": 3
   },
   "file_extension": ".py",
   "mimetype": "text/x-python",
   "name": "python",
   "nbconvert_exporter": "python",
   "pygments_lexer": "ipython3",
   "version": "3.8.5"
  }
 },
 "nbformat": 4,
 "nbformat_minor": 4
}
